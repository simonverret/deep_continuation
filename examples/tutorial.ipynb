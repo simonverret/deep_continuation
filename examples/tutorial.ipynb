{
 "cells": [
  {
   "cell_type": "markdown",
   "metadata": {},
   "source": [
    "# Training fixed temperature neural network\n",
    "\n",
    "The first step before training the neural network is to generate the relevant datasets and load relevant modules."
   ]
  },
  {
   "cell_type": "code",
   "execution_count": 1,
   "metadata": {},
   "outputs": [
    {
     "name": "stdout",
     "output_type": "stream",
     "text": [
      "WARNING: Skipping existing /Users/Simon/codes/deep_continuation_B/deep_continuation/data/default/sigma_10000x1x1_seed555_Nw512_wmax20.npy\n",
      "WARNING: Skipping existing /Users/Simon/codes/deep_continuation_B/deep_continuation/data/default/Pi_10000x1x1_seed555_Nwn128_beta30.npy\n",
      "WARNING: Skipping existing /Users/Simon/codes/deep_continuation_B/deep_continuation/data/default/sigma_100000x1x1_seed55555_Nw512_wmax20.npy\n",
      "WARNING: Skipping existing /Users/Simon/codes/deep_continuation_B/deep_continuation/data/default/Pi_100000x1x1_seed55555_Nwn128_beta30.npy\n"
     ]
    }
   ],
   "source": [
    "!python3 ../deep_continuation/dataset.py --size 10000 --seed 555;\n",
    "!python3 ../deep_continuation/dataset.py --size 100000 --seed 55555;"
   ]
  },
  {
   "cell_type": "code",
   "execution_count": 2,
   "metadata": {},
   "outputs": [
    {
     "name": "stderr",
     "output_type": "stream",
     "text": [
      "/Users/Simon/codes/deep_continuation_B/env/lib/python3.7/site-packages/tqdm/auto.py:22: TqdmWarning: IProgress not found. Please update jupyter and ipywidgets. See https://ipywidgets.readthedocs.io/en/stable/user_install.html\n",
      "  from .autonotebook import tqdm as notebook_tqdm\n"
     ]
    }
   ],
   "source": [
    "import os\n",
    "from copy import deepcopy\n",
    "import numpy as np\n",
    "import matplotlib.pyplot as plt\n",
    "import torch\n",
    "import torch.nn as nn\n",
    "device = torch.device(\"cuda\") if torch.cuda.is_available() else torch.device(\"cpu\")\n",
    "TORCH_MAX = torch.finfo(torch.float64).max\n",
    "\n",
    "from deep_continuation.dataset import get_file_paths, DATAPATH\n"
   ]
  },
  {
   "cell_type": "markdown",
   "metadata": {},
   "source": [
    "## Dataloaders\n",
    "\n",
    "We shall load the relevant data inside a customized PyTorch `Dataset` subclass contained in a `Dataloader`. This is standard PyTorch practice to automatize the shuffling of the data."
   ]
  },
  {
   "cell_type": "code",
   "execution_count": 3,
   "metadata": {},
   "outputs": [
    {
     "name": "stdout",
     "output_type": "stream",
     "text": [
      "loading data...\n",
      " done\n"
     ]
    }
   ],
   "source": [
    "class ContinuationData(torch.utils.data.Dataset):\n",
    "    def __init__(\n",
    "        self, noise=0.0, standardize=True, avg=None, std=None,\n",
    "        # dataset file info\n",
    "        path=os.path.join(DATAPATH, \"default\"),\n",
    "        size=1, seed=55555, num_std=1, num_beta=1,\n",
    "        Nwn=128, beta=30, Nw=512, wmax=20, fixstd=False,\n",
    "    ):\n",
    "        _, pi_path, sigma_path, _, _ = get_file_paths(\n",
    "            path, size, seed, num_std, num_beta, Nwn, beta, Nw, wmax, fixstd,\n",
    "        )\n",
    "        self.x_data = np.load(pi_path)\n",
    "        self.y_data = np.load(sigma_path)\n",
    "\n",
    "        self.noise = noise\n",
    "        self.standardize = standardize\n",
    "        if avg and std:\n",
    "            self.avg = avg\n",
    "            self.std = std\n",
    "        else:\n",
    "            self.avg = self.x_data.mean(axis=-2)\n",
    "            self.std = self.x_data.std(axis=-2)\n",
    "        \n",
    "    def __len__(self):\n",
    "        return len(self.x_data)\n",
    "\n",
    "    def __getitem__(self, index):\n",
    "        x = self.x_data[index]\n",
    "        x += np.random.normal(0,1, size=x.shape)*self.noise\n",
    "        if self.standardize:\n",
    "            x = (x - self.avg)/self.std\n",
    "\n",
    "        y = self.y_data[index]\n",
    "        return x, y\n",
    "\n",
    "print(\"loading data...\")\n",
    "valid_set = ContinuationData(size=10000, seed=555)\n",
    "train_set = ContinuationData(size=100000, seed=55555)\n",
    "\n",
    "train_loader = torch.utils.data.DataLoader(\n",
    "    train_set, \n",
    "    batch_size=523, \n",
    "    shuffle=True, \n",
    "    drop_last=True\n",
    ")\n",
    "valid_loader = torch.utils.data.DataLoader(\n",
    "    valid_set, \n",
    "    batch_size=523, \n",
    "    shuffle=False, \n",
    "    drop_last=True,\n",
    ")\n",
    "print(\" done\")"
   ]
  },
  {
   "cell_type": "markdown",
   "metadata": {},
   "source": [
    "## Define the Model and initialize weights"
   ]
  },
  {
   "cell_type": "code",
   "execution_count": 4,
   "metadata": {},
   "outputs": [
    {
     "data": {
      "text/plain": [
       "MLP(\n",
       "  (layers): ModuleList(\n",
       "    (0): Linear(in_features=128, out_features=952, bias=True)\n",
       "    (1): ReLU()\n",
       "    (2): Linear(in_features=952, out_features=1343, bias=True)\n",
       "    (3): ReLU()\n",
       "    (4): Linear(in_features=1343, out_features=1673, bias=True)\n",
       "    (5): ReLU()\n",
       "    (6): Linear(in_features=1673, out_features=1722, bias=True)\n",
       "    (7): ReLU()\n",
       "    (8): Linear(in_features=1722, out_features=512, bias=True)\n",
       "    (9): ReLU()\n",
       "    (10): Linear(in_features=512, out_features=512, bias=True)\n",
       "    (11): Softmax(dim=-1)\n",
       "  )\n",
       ")"
      ]
     },
     "execution_count": 4,
     "metadata": {},
     "output_type": "execute_result"
    }
   ],
   "source": [
    "class MLP(nn.Module):\n",
    "    def __init__(self, layers=[128, 952, 1343, 1673, 1722, 512]):\n",
    "        super(MLP, self).__init__()\n",
    "        self.epoch = 0\n",
    "        \n",
    "        self.layers = nn.ModuleList()\n",
    "        sizeA = layers[0]\n",
    "        for sizeB in layers[1:]:\n",
    "            self.layers.append(nn.Linear(sizeA, sizeB))\n",
    "            self.layers.append(nn.ReLU())\n",
    "            sizeA = sizeB\n",
    "\n",
    "        self.layers.append(nn.Linear(sizeA, layers[-1]))\n",
    "        self.layers.append(nn.Softmax(dim=-1))\n",
    "        \n",
    "    def forward(self, x):\n",
    "        out = x\n",
    "        for layer in self.layers:\n",
    "            out = layer(out)\n",
    "        return out\n",
    "\n",
    "\n",
    "def initialize_weights(module, gain=1):\n",
    "    if type(module) == nn.Linear:\n",
    "        torch.nn.init.xavier_uniform_(module.weight, gain=gain)\n",
    "        torch.nn.init.zeros_(module.bias)\n",
    "\n",
    "model = MLP().to(device)\n",
    "model.apply(initialize_weights)"
   ]
  },
  {
   "cell_type": "markdown",
   "metadata": {},
   "source": [
    "## Define the loss function, optimizer, and learning rate scheduler"
   ]
  },
  {
   "cell_type": "code",
   "execution_count": 5,
   "metadata": {},
   "outputs": [],
   "source": [
    "loss_function = nn.L1Loss()  \n",
    "mse_function = nn.MSELoss()\n",
    "\n",
    "lr = 8e-5\n",
    "optimizer = torch.optim.Adam(model.parameters(), lr=lr)\n",
    "scheduler = torch.optim.lr_scheduler.ReduceLROnPlateau(\n",
    "    optimizer, \n",
    "    factor=0.216, \n",
    "    patience=5,\n",
    "    verbose=True,\n",
    "    min_lr=1e-10\n",
    ")"
   ]
  },
  {
   "cell_type": "markdown",
   "metadata": {},
   "source": [
    "## Training and validation loop\n",
    "Use a learning rate warmup, early stopping and plot a spectrum each epoch "
   ]
  },
  {
   "cell_type": "code",
   "execution_count": 6,
   "metadata": {},
   "outputs": [
    {
     "name": "stdout",
     "output_type": "stream",
     "text": [
      " epoch 1\n"
     ]
    },
    {
     "ename": "KeyboardInterrupt",
     "evalue": "",
     "output_type": "error",
     "traceback": [
      "\u001b[0;31m---------------------------------------------------------------------------\u001b[0m",
      "\u001b[0;31mKeyboardInterrupt\u001b[0m                         Traceback (most recent call last)",
      "\u001b[0;32m/var/folders/t0/hym9hmg56_l32p13xk06j_gw0000gp/T/ipykernel_90840/2298784613.py\u001b[0m in \u001b[0;36m<module>\u001b[0;34m\u001b[0m\n\u001b[1;32m     20\u001b[0m \u001b[0;34m\u001b[0m\u001b[0m\n\u001b[1;32m     21\u001b[0m         \u001b[0moptimizer\u001b[0m\u001b[0;34m.\u001b[0m\u001b[0mzero_grad\u001b[0m\u001b[0;34m(\u001b[0m\u001b[0;34m)\u001b[0m\u001b[0;34m\u001b[0m\u001b[0;34m\u001b[0m\u001b[0m\n\u001b[0;32m---> 22\u001b[0;31m         \u001b[0moutputs\u001b[0m \u001b[0;34m=\u001b[0m \u001b[0mmodel\u001b[0m\u001b[0;34m(\u001b[0m\u001b[0minputs\u001b[0m\u001b[0;34m)\u001b[0m\u001b[0;34m\u001b[0m\u001b[0;34m\u001b[0m\u001b[0m\n\u001b[0m\u001b[1;32m     23\u001b[0m         \u001b[0mloss\u001b[0m \u001b[0;34m=\u001b[0m \u001b[0mloss_function\u001b[0m\u001b[0;34m(\u001b[0m\u001b[0moutputs\u001b[0m\u001b[0;34m,\u001b[0m \u001b[0mtargets\u001b[0m\u001b[0;34m)\u001b[0m\u001b[0;34m\u001b[0m\u001b[0;34m\u001b[0m\u001b[0m\n\u001b[1;32m     24\u001b[0m         \u001b[0mloss\u001b[0m\u001b[0;34m.\u001b[0m\u001b[0mbackward\u001b[0m\u001b[0;34m(\u001b[0m\u001b[0;34m)\u001b[0m\u001b[0;34m\u001b[0m\u001b[0;34m\u001b[0m\u001b[0m\n",
      "\u001b[0;32m~/codes/deep_continuation_B/env/lib/python3.7/site-packages/torch/nn/modules/module.py\u001b[0m in \u001b[0;36m_call_impl\u001b[0;34m(self, *input, **kwargs)\u001b[0m\n\u001b[1;32m   1108\u001b[0m         if not (self._backward_hooks or self._forward_hooks or self._forward_pre_hooks or _global_backward_hooks\n\u001b[1;32m   1109\u001b[0m                 or _global_forward_hooks or _global_forward_pre_hooks):\n\u001b[0;32m-> 1110\u001b[0;31m             \u001b[0;32mreturn\u001b[0m \u001b[0mforward_call\u001b[0m\u001b[0;34m(\u001b[0m\u001b[0;34m*\u001b[0m\u001b[0minput\u001b[0m\u001b[0;34m,\u001b[0m \u001b[0;34m**\u001b[0m\u001b[0mkwargs\u001b[0m\u001b[0;34m)\u001b[0m\u001b[0;34m\u001b[0m\u001b[0;34m\u001b[0m\u001b[0m\n\u001b[0m\u001b[1;32m   1111\u001b[0m         \u001b[0;31m# Do not call functions when jit is used\u001b[0m\u001b[0;34m\u001b[0m\u001b[0;34m\u001b[0m\u001b[0;34m\u001b[0m\u001b[0m\n\u001b[1;32m   1112\u001b[0m         \u001b[0mfull_backward_hooks\u001b[0m\u001b[0;34m,\u001b[0m \u001b[0mnon_full_backward_hooks\u001b[0m \u001b[0;34m=\u001b[0m \u001b[0;34m[\u001b[0m\u001b[0;34m]\u001b[0m\u001b[0;34m,\u001b[0m \u001b[0;34m[\u001b[0m\u001b[0;34m]\u001b[0m\u001b[0;34m\u001b[0m\u001b[0;34m\u001b[0m\u001b[0m\n",
      "\u001b[0;32m/var/folders/t0/hym9hmg56_l32p13xk06j_gw0000gp/T/ipykernel_90840/3395942247.py\u001b[0m in \u001b[0;36mforward\u001b[0;34m(self, x)\u001b[0m\n\u001b[1;32m     17\u001b[0m         \u001b[0mout\u001b[0m \u001b[0;34m=\u001b[0m \u001b[0mx\u001b[0m\u001b[0;34m\u001b[0m\u001b[0;34m\u001b[0m\u001b[0m\n\u001b[1;32m     18\u001b[0m         \u001b[0;32mfor\u001b[0m \u001b[0mlayer\u001b[0m \u001b[0;32min\u001b[0m \u001b[0mself\u001b[0m\u001b[0;34m.\u001b[0m\u001b[0mlayers\u001b[0m\u001b[0;34m:\u001b[0m\u001b[0;34m\u001b[0m\u001b[0;34m\u001b[0m\u001b[0m\n\u001b[0;32m---> 19\u001b[0;31m             \u001b[0mout\u001b[0m \u001b[0;34m=\u001b[0m \u001b[0mlayer\u001b[0m\u001b[0;34m(\u001b[0m\u001b[0mout\u001b[0m\u001b[0;34m)\u001b[0m\u001b[0;34m\u001b[0m\u001b[0;34m\u001b[0m\u001b[0m\n\u001b[0m\u001b[1;32m     20\u001b[0m         \u001b[0;32mreturn\u001b[0m \u001b[0mout\u001b[0m\u001b[0;34m\u001b[0m\u001b[0;34m\u001b[0m\u001b[0m\n\u001b[1;32m     21\u001b[0m \u001b[0;34m\u001b[0m\u001b[0m\n",
      "\u001b[0;32m~/codes/deep_continuation_B/env/lib/python3.7/site-packages/torch/nn/modules/module.py\u001b[0m in \u001b[0;36m_call_impl\u001b[0;34m(self, *input, **kwargs)\u001b[0m\n\u001b[1;32m   1108\u001b[0m         if not (self._backward_hooks or self._forward_hooks or self._forward_pre_hooks or _global_backward_hooks\n\u001b[1;32m   1109\u001b[0m                 or _global_forward_hooks or _global_forward_pre_hooks):\n\u001b[0;32m-> 1110\u001b[0;31m             \u001b[0;32mreturn\u001b[0m \u001b[0mforward_call\u001b[0m\u001b[0;34m(\u001b[0m\u001b[0;34m*\u001b[0m\u001b[0minput\u001b[0m\u001b[0;34m,\u001b[0m \u001b[0;34m**\u001b[0m\u001b[0mkwargs\u001b[0m\u001b[0;34m)\u001b[0m\u001b[0;34m\u001b[0m\u001b[0;34m\u001b[0m\u001b[0m\n\u001b[0m\u001b[1;32m   1111\u001b[0m         \u001b[0;31m# Do not call functions when jit is used\u001b[0m\u001b[0;34m\u001b[0m\u001b[0;34m\u001b[0m\u001b[0;34m\u001b[0m\u001b[0m\n\u001b[1;32m   1112\u001b[0m         \u001b[0mfull_backward_hooks\u001b[0m\u001b[0;34m,\u001b[0m \u001b[0mnon_full_backward_hooks\u001b[0m \u001b[0;34m=\u001b[0m \u001b[0;34m[\u001b[0m\u001b[0;34m]\u001b[0m\u001b[0;34m,\u001b[0m \u001b[0;34m[\u001b[0m\u001b[0;34m]\u001b[0m\u001b[0;34m\u001b[0m\u001b[0;34m\u001b[0m\u001b[0m\n",
      "\u001b[0;32m~/codes/deep_continuation_B/env/lib/python3.7/site-packages/torch/nn/modules/linear.py\u001b[0m in \u001b[0;36mforward\u001b[0;34m(self, input)\u001b[0m\n\u001b[1;32m    101\u001b[0m \u001b[0;34m\u001b[0m\u001b[0m\n\u001b[1;32m    102\u001b[0m     \u001b[0;32mdef\u001b[0m \u001b[0mforward\u001b[0m\u001b[0;34m(\u001b[0m\u001b[0mself\u001b[0m\u001b[0;34m,\u001b[0m \u001b[0minput\u001b[0m\u001b[0;34m:\u001b[0m \u001b[0mTensor\u001b[0m\u001b[0;34m)\u001b[0m \u001b[0;34m->\u001b[0m \u001b[0mTensor\u001b[0m\u001b[0;34m:\u001b[0m\u001b[0;34m\u001b[0m\u001b[0;34m\u001b[0m\u001b[0m\n\u001b[0;32m--> 103\u001b[0;31m         \u001b[0;32mreturn\u001b[0m \u001b[0mF\u001b[0m\u001b[0;34m.\u001b[0m\u001b[0mlinear\u001b[0m\u001b[0;34m(\u001b[0m\u001b[0minput\u001b[0m\u001b[0;34m,\u001b[0m \u001b[0mself\u001b[0m\u001b[0;34m.\u001b[0m\u001b[0mweight\u001b[0m\u001b[0;34m,\u001b[0m \u001b[0mself\u001b[0m\u001b[0;34m.\u001b[0m\u001b[0mbias\u001b[0m\u001b[0;34m)\u001b[0m\u001b[0;34m\u001b[0m\u001b[0;34m\u001b[0m\u001b[0m\n\u001b[0m\u001b[1;32m    104\u001b[0m \u001b[0;34m\u001b[0m\u001b[0m\n\u001b[1;32m    105\u001b[0m     \u001b[0;32mdef\u001b[0m \u001b[0mextra_repr\u001b[0m\u001b[0;34m(\u001b[0m\u001b[0mself\u001b[0m\u001b[0;34m)\u001b[0m \u001b[0;34m->\u001b[0m \u001b[0mstr\u001b[0m\u001b[0;34m:\u001b[0m\u001b[0;34m\u001b[0m\u001b[0;34m\u001b[0m\u001b[0m\n",
      "\u001b[0;31mKeyboardInterrupt\u001b[0m: "
     ]
    }
   ],
   "source": [
    "n_epochs = 200\n",
    "early_stop_count = 40\n",
    "best_valid_loss = TORCH_MAX\n",
    "for epoch in range(1, n_epochs+1):\n",
    "    print(f' epoch {epoch}')\n",
    "    avg_train_loss = 0\n",
    "    avg_train_mse = 0\n",
    "\n",
    "    model.train()\n",
    "    for batch_number, (inputs, targets) in enumerate(train_loader):\n",
    "        \n",
    "        # learning rate warmup\n",
    "        if epoch == 1: \n",
    "            tmp_lr = (batch_number+1)*lr/len(train_loader)\n",
    "            for g in optimizer.param_groups:\n",
    "                g['lr'] = tmp_lr\n",
    "\n",
    "        inputs = inputs.to(device).float()\n",
    "        targets = targets.to(device).float()\n",
    "\n",
    "        optimizer.zero_grad()\n",
    "        outputs = model(inputs)\n",
    "        loss = loss_function(outputs, targets)\n",
    "        loss.backward()\n",
    "        optimizer.step()\n",
    "\n",
    "        mse = mse_function(outputs, targets)\n",
    "        avg_train_mse += mse.item()\n",
    "        avg_train_loss += loss.item()\n",
    "    \n",
    "    avg_train_loss = avg_train_loss/len(train_loader)\n",
    "    print(f'   train loss: {avg_train_loss:.9f}, mse: {avg_train_mse:.9f}')\n",
    "\n",
    "    model.eval()\n",
    "    avg_valid_loss = 0\n",
    "    avg_valid_mse = 0\n",
    "    for batch_number, (inputs, targets) in enumerate(valid_loader):\n",
    "        inputs = inputs.to(device).float()\n",
    "        targets = targets.to(device).float()\n",
    "        outputs = model(inputs)\n",
    "        loss = loss_function(outputs, targets)\n",
    "\n",
    "        mse = mse_function(outputs, targets)\n",
    "        avg_valid_loss += loss.item()\n",
    "        avg_valid_mse += mse.item()\n",
    "\n",
    "    avg_valid_loss = avg_valid_loss/len(valid_loader)\n",
    "    print(f'   valid loss: {avg_valid_loss:.9f}, mse:{avg_valid_mse:.9f}')\n",
    "    \n",
    "    # plot a few validation spectra\n",
    "    offset = 10\n",
    "    n_plots = 4\n",
    "    _, ax = plt.subplots(1,n_plots, figsize=(12,2))\n",
    "    for i in range(n_plots):\n",
    "        ax[i].plot(outputs[i+offset].detach().numpy())\n",
    "        ax[i].plot(targets[i+offset].detach().numpy())\n",
    "    plt.pause(0.001)\n",
    "    \n",
    "    scheduler.step(avg_train_loss)\n",
    "    early_stop_count -= 1\n",
    "    if avg_valid_loss < best_valid_loss:\n",
    "        early_stop_count = 40\n",
    "        best_valid_loss = avg_valid_loss\n",
    "        best_epoch = epoch\n",
    "        best_model = deepcopy(model)\n",
    "        \n",
    "    if early_stop_count == 0:\n",
    "        print('early stopping limit reached!!')\n",
    "        print(f'best epoch was {best_epoch}')\n",
    "        break"
   ]
  },
  {
   "cell_type": "markdown",
   "metadata": {},
   "source": [
    "## Saving the best model"
   ]
  },
  {
   "cell_type": "code",
   "execution_count": null,
   "metadata": {},
   "outputs": [],
   "source": [
    "torch.save(best_model.state_dict(), \"best_model.pt\")"
   ]
  },
  {
   "cell_type": "markdown",
   "metadata": {},
   "source": [
    "## Loading the model"
   ]
  },
  {
   "cell_type": "code",
   "execution_count": null,
   "metadata": {},
   "outputs": [
    {
     "data": {
      "image/png": "[encoded data removed]",
      "text/plain": [
       "<Figure size 432x288 with 1 Axes>"
      ]
     },
     "metadata": {
      "needs_background": "light"
     },
     "output_type": "display_data"
    }
   ],
   "source": [
    "loaded_model = MLP().to(device)\n",
    "loaded_model.load_state_dict(torch.load(\"best_model.pt\", map_location=device))\n",
    "\n",
    "outputs = loaded_model(inputs)\n",
    "i = np.random.randint(0,64)\n",
    "plt.plot(outputs[i].detach().numpy())\n",
    "plt.plot(targets[i].detach().numpy())\n",
    "plt.title(f\"o:{outputs[0].sum().detach().numpy()}, t:{targets[0].sum().detach().numpy()}\")\n",
    "plt.show()"
   ]
  }
 ],
 "metadata": {
  "interpreter": {
   "hash": "6e713b55286e32d8d0fdf8e44ff73efb062f57d10520b774d01ca8e671d804e4"
  },
  "kernelspec": {
   "display_name": "Python 3.7.7 ('env': venv)",
   "language": "python",
   "name": "python3"
  },
  "language_info": {
   "codemirror_mode": {
    "name": "ipython",
    "version": 3
   },
   "file_extension": ".py",
   "mimetype": "text/x-python",
   "name": "python",
   "nbconvert_exporter": "python",
   "pygments_lexer": "ipython3",
   "version": "3.7.7"
  }
 },
 "nbformat": 4,
 "nbformat_minor": 2
}
